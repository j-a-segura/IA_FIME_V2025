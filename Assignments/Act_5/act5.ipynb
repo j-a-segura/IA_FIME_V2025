{
  "nbformat": 4,
  "nbformat_minor": 0,
  "metadata": {
    "colab": {
      "provenance": []
    },
    "kernelspec": {
      "name": "python3",
      "display_name": "Python 3"
    },
    "language_info": {
      "name": "python"
    }
  },
  "cells": [
    {
      "cell_type": "code",
      "execution_count": null,
      "metadata": {
        "colab": {
          "base_uri": "https://localhost:8080/",
          "height": 1000
        },
        "id": "aN38Zq3SKGuH",
        "outputId": "c99b656b-9de8-4c5b-8ed6-2c80f3172969"
      },
      "outputs": [
        {
          "output_type": "stream",
          "name": "stdout",
          "text": [
            "Downloading data from https://storage.googleapis.com/tensorflow/tf-keras-datasets/mnist.npz\n",
            "\u001b[1m11490434/11490434\u001b[0m \u001b[32m━━━━━━━━━━━━━━━━━━━━\u001b[0m\u001b[37m\u001b[0m \u001b[1m0s\u001b[0m 0us/step\n"
          ]
        },
        {
          "output_type": "stream",
          "name": "stderr",
          "text": [
            "/usr/local/lib/python3.11/dist-packages/keras/src/layers/reshaping/flatten.py:37: UserWarning: Do not pass an `input_shape`/`input_dim` argument to a layer. When using Sequential models, prefer using an `Input(shape)` object as the first layer in the model instead.\n",
            "  super().__init__(**kwargs)\n"
          ]
        },
        {
          "output_type": "stream",
          "name": "stdout",
          "text": [
            "Epoch 1/15\n",
            "\u001b[1m844/844\u001b[0m \u001b[32m━━━━━━━━━━━━━━━━━━━━\u001b[0m\u001b[37m\u001b[0m \u001b[1m6s\u001b[0m 5ms/step - accuracy: 0.8489 - loss: 0.5332 - val_accuracy: 0.9647 - val_loss: 0.1243\n",
            "Epoch 2/15\n",
            "\u001b[1m844/844\u001b[0m \u001b[32m━━━━━━━━━━━━━━━━━━━━\u001b[0m\u001b[37m\u001b[0m \u001b[1m6s\u001b[0m 7ms/step - accuracy: 0.9611 - loss: 0.1308 - val_accuracy: 0.9705 - val_loss: 0.0950\n",
            "Epoch 3/15\n",
            "\u001b[1m844/844\u001b[0m \u001b[32m━━━━━━━━━━━━━━━━━━━━\u001b[0m\u001b[37m\u001b[0m \u001b[1m5s\u001b[0m 6ms/step - accuracy: 0.9737 - loss: 0.0859 - val_accuracy: 0.9747 - val_loss: 0.0866\n",
            "Epoch 4/15\n",
            "\u001b[1m844/844\u001b[0m \u001b[32m━━━━━━━━━━━━━━━━━━━━\u001b[0m\u001b[37m\u001b[0m \u001b[1m3s\u001b[0m 4ms/step - accuracy: 0.9795 - loss: 0.0646 - val_accuracy: 0.9793 - val_loss: 0.0748\n",
            "Epoch 5/15\n",
            "\u001b[1m844/844\u001b[0m \u001b[32m━━━━━━━━━━━━━━━━━━━━\u001b[0m\u001b[37m\u001b[0m \u001b[1m4s\u001b[0m 4ms/step - accuracy: 0.9860 - loss: 0.0465 - val_accuracy: 0.9750 - val_loss: 0.0898\n",
            "Epoch 6/15\n",
            "\u001b[1m844/844\u001b[0m \u001b[32m━━━━━━━━━━━━━━━━━━━━\u001b[0m\u001b[37m\u001b[0m \u001b[1m5s\u001b[0m 6ms/step - accuracy: 0.9879 - loss: 0.0370 - val_accuracy: 0.9793 - val_loss: 0.0817\n",
            "Epoch 7/15\n",
            "\u001b[1m844/844\u001b[0m \u001b[32m━━━━━━━━━━━━━━━━━━━━\u001b[0m\u001b[37m\u001b[0m \u001b[1m4s\u001b[0m 4ms/step - accuracy: 0.9906 - loss: 0.0298 - val_accuracy: 0.9788 - val_loss: 0.0840\n",
            "Epoch 8/15\n",
            "\u001b[1m844/844\u001b[0m \u001b[32m━━━━━━━━━━━━━━━━━━━━\u001b[0m\u001b[37m\u001b[0m \u001b[1m4s\u001b[0m 4ms/step - accuracy: 0.9928 - loss: 0.0236 - val_accuracy: 0.9783 - val_loss: 0.0846\n",
            "Epoch 9/15\n",
            "\u001b[1m844/844\u001b[0m \u001b[32m━━━━━━━━━━━━━━━━━━━━\u001b[0m\u001b[37m\u001b[0m \u001b[1m6s\u001b[0m 6ms/step - accuracy: 0.9935 - loss: 0.0207 - val_accuracy: 0.9813 - val_loss: 0.0827\n",
            "Epoch 10/15\n",
            "\u001b[1m844/844\u001b[0m \u001b[32m━━━━━━━━━━━━━━━━━━━━\u001b[0m\u001b[37m\u001b[0m \u001b[1m4s\u001b[0m 4ms/step - accuracy: 0.9946 - loss: 0.0182 - val_accuracy: 0.9797 - val_loss: 0.0917\n",
            "Epoch 11/15\n",
            "\u001b[1m844/844\u001b[0m \u001b[32m━━━━━━━━━━━━━━━━━━━━\u001b[0m\u001b[37m\u001b[0m \u001b[1m4s\u001b[0m 4ms/step - accuracy: 0.9953 - loss: 0.0144 - val_accuracy: 0.9783 - val_loss: 0.1037\n",
            "Epoch 12/15\n",
            "\u001b[1m844/844\u001b[0m \u001b[32m━━━━━━━━━━━━━━━━━━━━\u001b[0m\u001b[37m\u001b[0m \u001b[1m5s\u001b[0m 6ms/step - accuracy: 0.9962 - loss: 0.0119 - val_accuracy: 0.9775 - val_loss: 0.0996\n",
            "Epoch 13/15\n",
            "\u001b[1m844/844\u001b[0m \u001b[32m━━━━━━━━━━━━━━━━━━━━\u001b[0m\u001b[37m\u001b[0m \u001b[1m3s\u001b[0m 4ms/step - accuracy: 0.9957 - loss: 0.0131 - val_accuracy: 0.9763 - val_loss: 0.1060\n",
            "Epoch 14/15\n",
            "\u001b[1m844/844\u001b[0m \u001b[32m━━━━━━━━━━━━━━━━━━━━\u001b[0m\u001b[37m\u001b[0m \u001b[1m4s\u001b[0m 4ms/step - accuracy: 0.9968 - loss: 0.0102 - val_accuracy: 0.9793 - val_loss: 0.0979\n",
            "Epoch 15/15\n",
            "\u001b[1m844/844\u001b[0m \u001b[32m━━━━━━━━━━━━━━━━━━━━\u001b[0m\u001b[37m\u001b[0m \u001b[1m6s\u001b[0m 6ms/step - accuracy: 0.9962 - loss: 0.0111 - val_accuracy: 0.9805 - val_loss: 0.0958\n",
            "\u001b[1m313/313\u001b[0m \u001b[32m━━━━━━━━━━━━━━━━━━━━\u001b[0m\u001b[37m\u001b[0m \u001b[1m1s\u001b[0m 2ms/step - accuracy: 0.9719 - loss: 0.1166\n",
            "\n",
            "Test accuracy: 0.9759\n",
            "\u001b[1m1/1\u001b[0m \u001b[32m━━━━━━━━━━━━━━━━━━━━\u001b[0m\u001b[37m\u001b[0m \u001b[1m0s\u001b[0m 69ms/step\n"
          ]
        },
        {
          "output_type": "display_data",
          "data": {
            "text/plain": [
              "<Figure size 1500x500 with 5 Axes>"
            ],
            "image/png": "[encoded data removed]"
          },
          "metadata": {}
        }
      ],
      "source": [
        "# Step 1: Load required libraries\n",
        "import numpy as np\n",
        "import matplotlib.pyplot as plt\n",
        "from tensorflow.keras.datasets import mnist\n",
        "from tensorflow.keras.models import Sequential\n",
        "from tensorflow.keras.layers import Dense, Flatten\n",
        "from tensorflow.keras.utils import to_categorical\n",
        "\n",
        "# Step 2: Load MNIST dataset\n",
        "(train_images, train_labels), (test_images, test_labels) = mnist.load_data()\n",
        "\n",
        "# Step 3: Data preprocessing\n",
        "# Normalize pixel values to [0, 1]\n",
        "train_images = train_images.astype('float32') / 255\n",
        "test_images = test_images.astype('float32') / 255\n",
        "\n",
        "# Convert labels to one-hot encoded vectors\n",
        "train_labels = to_categorical(train_labels)\n",
        "test_labels = to_categorical(test_labels)\n",
        "\n",
        "# Step 4: Model selection and training\n",
        "model = Sequential([\n",
        "    Flatten(input_shape=(28, 28)),  # Input layer\n",
        "    Dense(128, activation='relu'),  # Hidden layer 1\n",
        "    Dense(64, activation='relu'),   # Hidden layer 2\n",
        "    Dense(10, activation='softmax') # Output layer\n",
        "])\n",
        "\n",
        "model.compile(optimizer='adam',\n",
        "              loss='categorical_crossentropy',\n",
        "              metrics=['accuracy'])\n",
        "\n",
        "history = model.fit(train_images, train_labels,\n",
        "                    epochs=15,\n",
        "                    batch_size=64,\n",
        "                    validation_split=0.1)\n",
        "\n",
        "# Step 5: Model testing\n",
        "test_loss, test_acc = model.evaluate(test_images, test_labels)\n",
        "print(f'\\nTest accuracy: {test_acc:.4f}')\n",
        "\n",
        "# Step 6: Make 5 predictions\n",
        "sample_indices = np.random.choice(len(test_images), 5)\n",
        "predictions = model.predict(test_images[sample_indices])\n",
        "\n",
        "plt.figure(figsize=(15, 5))\n",
        "for i, idx in enumerate(sample_indices):\n",
        "    # Display image\n",
        "    plt.subplot(1, 5, i+1)\n",
        "    plt.imshow(test_images[idx], cmap='gray')\n",
        "    plt.axis('off')\n",
        "\n",
        "    # Get predicted and actual labels\n",
        "    pred_label = np.argmax(predictions[i])\n",
        "    actual_label = np.argmax(test_labels[idx])\n",
        "\n",
        "    plt.title(f'Pred: {pred_label}\\nActual: {actual_label}',\n",
        "              color='green' if pred_label == actual_label else 'red')\n",
        "\n",
        "plt.tight_layout()\n",
        "plt.show()"
      ]
    }
  ]
}