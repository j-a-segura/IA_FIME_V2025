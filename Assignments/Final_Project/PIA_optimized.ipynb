{
  "nbformat": 4,
  "nbformat_minor": 0,
  "metadata": {
    "colab": {
      "provenance": [],
      "gpuType": "A100",
      "machine_shape": "hm"
    },
    "kernelspec": {
      "name": "python3",
      "display_name": "Python 3"
    },
    "language_info": {
      "name": "python"
    },
    "accelerator": "GPU"
  },
  "cells": [
    {
      "cell_type": "code",
      "source": [
        "!pip install numpy matplotlib pillow opencv-python scikit-learn"
      ],
      "metadata": {
        "colab": {
          "base_uri": "https://localhost:8080/"
        },
        "id": "URILSqewLJMy",
        "outputId": "b0c74c8a-9522-49fb-98f1-75a8bd31e841"
      },
      "execution_count": null,
      "outputs": [
        {
          "output_type": "stream",
          "name": "stdout",
          "text": [
            "Requirement already satisfied: numpy in /usr/local/lib/python3.11/dist-packages (2.0.2)\n",
            "Requirement already satisfied: matplotlib in /usr/local/lib/python3.11/dist-packages (3.10.0)\n",
            "Requirement already satisfied: pillow in /usr/local/lib/python3.11/dist-packages (11.2.1)\n",
            "Requirement already satisfied: opencv-python in /usr/local/lib/python3.11/dist-packages (4.11.0.86)\n",
            "Requirement already satisfied: scikit-learn in /usr/local/lib/python3.11/dist-packages (1.6.1)\n",
            "Requirement already satisfied: contourpy>=1.0.1 in /usr/local/lib/python3.11/dist-packages (from matplotlib) (1.3.2)\n",
            "Requirement already satisfied: cycler>=0.10 in /usr/local/lib/python3.11/dist-packages (from matplotlib) (0.12.1)\n",
            "Requirement already satisfied: fonttools>=4.22.0 in /usr/local/lib/python3.11/dist-packages (from matplotlib) (4.58.5)\n",
            "Requirement already satisfied: kiwisolver>=1.3.1 in /usr/local/lib/python3.11/dist-packages (from matplotlib) (1.4.8)\n",
            "Requirement already satisfied: packaging>=20.0 in /usr/local/lib/python3.11/dist-packages (from matplotlib) (24.2)\n",
            "Requirement already satisfied: pyparsing>=2.3.1 in /usr/local/lib/python3.11/dist-packages (from matplotlib) (3.2.3)\n",
            "Requirement already satisfied: python-dateutil>=2.7 in /usr/local/lib/python3.11/dist-packages (from matplotlib) (2.9.0.post0)\n",
            "Requirement already satisfied: scipy>=1.6.0 in /usr/local/lib/python3.11/dist-packages (from scikit-learn) (1.15.3)\n",
            "Requirement already satisfied: joblib>=1.2.0 in /usr/local/lib/python3.11/dist-packages (from scikit-learn) (1.5.1)\n",
            "Requirement already satisfied: threadpoolctl>=3.1.0 in /usr/local/lib/python3.11/dist-packages (from scikit-learn) (3.6.0)\n",
            "Requirement already satisfied: six>=1.5 in /usr/local/lib/python3.11/dist-packages (from python-dateutil>=2.7->matplotlib) (1.17.0)\n"
          ]
        }
      ]
    },
    {
      "cell_type": "code",
      "source": [
        "import os\n",
        "import gc\n",
        "import cv2\n",
        "import glob\n",
        "import zipfile\n",
        "import numpy as np\n",
        "import matplotlib.pyplot as plt\n",
        "from PIL import Image\n",
        "import tensorflow as tf\n",
        "from collections import Counter\n",
        "from sklearn.utils import shuffle\n",
        "from tensorflow.keras import datasets, layers, models\n",
        "from sklearn.model_selection import train_test_split"
      ],
      "metadata": {
        "id": "uLOax5K0GkTE"
      },
      "execution_count": null,
      "outputs": []
    },
    {
      "cell_type": "code",
      "source": [
        "gpus = tf.config.list_physical_devices('GPU')\n",
        "if len(gpus) > 0:\n",
        "    try:\n",
        "        tf.config.experimental.set_memory_growth(gpus[0], True)\n",
        "        print(\"✅ GPU detectada y configurada con memory_growth\")\n",
        "    except:\n",
        "        print(\"⚠️ No se pudo configurar memory_growth en GPU\")\n",
        "    strategy = tf.distribute.MirroredStrategy()\n",
        "else:\n",
        "    print(\"⚠️ No se detectó GPU, usando CPU\")\n",
        "    strategy = tf.distribute.get_strategy()\n",
        "\n",
        "print(f\"Usando estrategia: {type(strategy).__name__}\")\n",
        "print(f\"Número de réplicas: {strategy.num_replicas_in_sync}\")\n"
      ],
      "metadata": {
        "id": "qxf5YTTRIn4C",
        "colab": {
          "base_uri": "https://localhost:8080/"
        },
        "outputId": "425aa424-4970-4bb5-cdc9-bef965abe19d"
      },
      "execution_count": null,
      "outputs": [
        {
          "output_type": "stream",
          "name": "stdout",
          "text": [
            "✅ GPU detectada y configurada con memory_growth\n",
            "Usando estrategia: MirroredStrategy\n",
            "Número de réplicas: 1\n"
          ]
        }
      ]
    },
    {
      "cell_type": "code",
      "source": [
        "gc.collect()\n",
        "tf.keras.backend.clear_session()\n",
        "\n",
        "config = tf.compat.v1.ConfigProto()\n",
        "config.gpu_options.allow_growth = True\n",
        "session = tf.compat.v1.Session(config=config)"
      ],
      "metadata": {
        "id": "B8_W3OY9IzU_"
      },
      "execution_count": null,
      "outputs": []
    },
    {
      "cell_type": "code",
      "source": [
        "!pip install kaggle\n",
        "from google.colab import files"
      ],
      "metadata": {
        "id": "g1cu2wXpGnLG",
        "colab": {
          "base_uri": "https://localhost:8080/"
        },
        "outputId": "9ab75aca-3685-44fc-cd63-7fd490f6220c"
      },
      "execution_count": null,
      "outputs": [
        {
          "output_type": "stream",
          "name": "stdout",
          "text": [
            "Requirement already satisfied: kaggle in /usr/local/lib/python3.11/dist-packages (1.7.4.5)\n",
            "Requirement already satisfied: bleach in /usr/local/lib/python3.11/dist-packages (from kaggle) (6.2.0)\n",
            "Requirement already satisfied: certifi>=14.05.14 in /usr/local/lib/python3.11/dist-packages (from kaggle) (2025.7.9)\n",
            "Requirement already satisfied: charset-normalizer in /usr/local/lib/python3.11/dist-packages (from kaggle) (3.4.2)\n",
            "Requirement already satisfied: idna in /usr/local/lib/python3.11/dist-packages (from kaggle) (3.10)\n",
            "Requirement already satisfied: protobuf in /usr/local/lib/python3.11/dist-packages (from kaggle) (5.29.5)\n",
            "Requirement already satisfied: python-dateutil>=2.5.3 in /usr/local/lib/python3.11/dist-packages (from kaggle) (2.9.0.post0)\n",
            "Requirement already satisfied: python-slugify in /usr/local/lib/python3.11/dist-packages (from kaggle) (8.0.4)\n",
            "Requirement already satisfied: requests in /usr/local/lib/python3.11/dist-packages (from kaggle) (2.32.3)\n",
            "Requirement already satisfied: setuptools>=21.0.0 in /usr/local/lib/python3.11/dist-packages (from kaggle) (75.2.0)\n",
            "Requirement already satisfied: six>=1.10 in /usr/local/lib/python3.11/dist-packages (from kaggle) (1.17.0)\n",
            "Requirement already satisfied: text-unidecode in /usr/local/lib/python3.11/dist-packages (from kaggle) (1.3)\n",
            "Requirement already satisfied: tqdm in /usr/local/lib/python3.11/dist-packages (from kaggle) (4.67.1)\n",
            "Requirement already satisfied: urllib3>=1.15.1 in /usr/local/lib/python3.11/dist-packages (from kaggle) (2.4.0)\n",
            "Requirement already satisfied: webencodings in /usr/local/lib/python3.11/dist-packages (from kaggle) (0.5.1)\n"
          ]
        }
      ]
    },
    {
      "cell_type": "code",
      "source": [
        "files.upload()"
      ],
      "metadata": {
        "id": "EPJgh-4nGoy0",
        "colab": {
          "base_uri": "https://localhost:8080/",
          "height": 92
        },
        "outputId": "876dfec6-0e86-40d6-d3d7-35bdbda9acd6"
      },
      "execution_count": null,
      "outputs": [
        {
          "output_type": "display_data",
          "data": {
            "text/plain": [
              "<IPython.core.display.HTML object>"
            ],
            "text/html": [
              "\n",
              "     <input type=\"file\" id=\"files-12004db7-0892-405d-abd7-40c2af2db052\" name=\"files[]\" multiple disabled\n",
              "        style=\"border:none\" />\n",
              "     <output id=\"result-12004db7-0892-405d-abd7-40c2af2db052\">\n",
              "      Upload widget is only available when the cell has been executed in the\n",
              "      current browser session. Please rerun this cell to enable.\n",
              "      </output>\n",
              "      <script>// Copyright 2017 Google LLC\n",
              "//\n",
              "// Licensed under the Apache License, Version 2.0 (the \"License\");\n",
              "// you may not use this file except in compliance with the License.\n",
              "// You may obtain a copy of the License at\n",
              "//\n",
              "//      http://www.apache.org/licenses/LICENSE-2.0\n",
              "//\n",
              "// Unless required by applicable law or agreed to in writing, software\n",
              "// distributed under the License is distributed on an \"AS IS\" BASIS,\n",
              "// WITHOUT WARRANTIES OR CONDITIONS OF ANY KIND, either express or implied.\n",
              "// See the License for the specific language governing permissions and\n",
              "// limitations under the License.\n",
              "\n",
              "/**\n",
              " * @fileoverview Helpers for google.colab Python module.\n",
              " */\n",
              "(function(scope) {\n",
              "function span(text, styleAttributes = {}) {\n",
              "  const element = document.createElement('span');\n",
              "  element.textContent = text;\n",
              "  for (const key of Object.keys(styleAttributes)) {\n",
              "    element.style[key] = styleAttributes[key];\n",
              "  }\n",
              "  return element;\n",
              "}\n",
              "\n",
              "// Max number of bytes which will be uploaded at a time.\n",
              "const MAX_PAYLOAD_SIZE = 100 * 1024;\n",
              "\n",
              "function _uploadFiles(inputId, outputId) {\n",
              "  const steps = uploadFilesStep(inputId, outputId);\n",
              "  const outputElement = document.getElementById(outputId);\n",
              "  // Cache steps on the outputElement to make it available for the next call\n",
              "  // to uploadFilesContinue from Python.\n",
              "  outputElement.steps = steps;\n",
              "\n",
              "  return _uploadFilesContinue(outputId);\n",
              "}\n",
              "\n",
              "// This is roughly an async generator (not supported in the browser yet),\n",
              "// where there are multiple asynchronous steps and the Python side is going\n",
              "// to poll for completion of each step.\n",
              "// This uses a Promise to block the python side on completion of each step,\n",
              "// then passes the result of the previous step as the input to the next step.\n",
              "function _uploadFilesContinue(outputId) {\n",
              "  const outputElement = document.getElementById(outputId);\n",
              "  const steps = outputElement.steps;\n",
              "\n",
              "  const next = steps.next(outputElement.lastPromiseValue);\n",
              "  return Promise.resolve(next.value.promise).then((value) => {\n",
              "    // Cache the last promise value to make it available to the next\n",
              "    // step of the generator.\n",
              "    outputElement.lastPromiseValue = value;\n",
              "    return next.value.response;\n",
              "  });\n",
              "}\n",
              "\n",
              "/**\n",
              " * Generator function which is called between each async step of the upload\n",
              " * process.\n",
              " * @param {string} inputId Element ID of the input file picker element.\n",
              " * @param {string} outputId Element ID of the output display.\n",
              " * @return {!Iterable<!Object>} Iterable of next steps.\n",
              " */\n",
              "function* uploadFilesStep(inputId, outputId) {\n",
              "  const inputElement = document.getElementById(inputId);\n",
              "  inputElement.disabled = false;\n",
              "\n",
              "  const outputElement = document.getElementById(outputId);\n",
              "  outputElement.innerHTML = '';\n",
              "\n",
              "  const pickedPromise = new Promise((resolve) => {\n",
              "    inputElement.addEventListener('change', (e) => {\n",
              "      resolve(e.target.files);\n",
              "    });\n",
              "  });\n",
              "\n",
              "  const cancel = document.createElement('button');\n",
              "  inputElement.parentElement.appendChild(cancel);\n",
              "  cancel.textContent = 'Cancel upload';\n",
              "  const cancelPromise = new Promise((resolve) => {\n",
              "    cancel.onclick = () => {\n",
              "      resolve(null);\n",
              "    };\n",
              "  });\n",
              "\n",
              "  // Wait for the user to pick the files.\n",
              "  const files = yield {\n",
              "    promise: Promise.race([pickedPromise, cancelPromise]),\n",
              "    response: {\n",
              "      action: 'starting',\n",
              "    }\n",
              "  };\n",
              "\n",
              "  cancel.remove();\n",
              "\n",
              "  // Disable the input element since further picks are not allowed.\n",
              "  inputElement.disabled = true;\n",
              "\n",
              "  if (!files) {\n",
              "    return {\n",
              "      response: {\n",
              "        action: 'complete',\n",
              "      }\n",
              "    };\n",
              "  }\n",
              "\n",
              "  for (const file of files) {\n",
              "    const li = document.createElement('li');\n",
              "    li.append(span(file.name, {fontWeight: 'bold'}));\n",
              "    li.append(span(\n",
              "        `(${file.type || 'n/a'}) - ${file.size} bytes, ` +\n",
              "        `last modified: ${\n",
              "            file.lastModifiedDate ? file.lastModifiedDate.toLocaleDateString() :\n",
              "                                    'n/a'} - `));\n",
              "    const percent = span('0% done');\n",
              "    li.appendChild(percent);\n",
              "\n",
              "    outputElement.appendChild(li);\n",
              "\n",
              "    const fileDataPromise = new Promise((resolve) => {\n",
              "      const reader = new FileReader();\n",
              "      reader.onload = (e) => {\n",
              "        resolve(e.target.result);\n",
              "      };\n",
              "      reader.readAsArrayBuffer(file);\n",
              "    });\n",
              "    // Wait for the data to be ready.\n",
              "    let fileData = yield {\n",
              "      promise: fileDataPromise,\n",
              "      response: {\n",
              "        action: 'continue',\n",
              "      }\n",
              "    };\n",
              "\n",
              "    // Use a chunked sending to avoid message size limits. See b/62115660.\n",
              "    let position = 0;\n",
              "    do {\n",
              "      const length = Math.min(fileData.byteLength - position, MAX_PAYLOAD_SIZE);\n",
              "      const chunk = new Uint8Array(fileData, position, length);\n",
              "      position += length;\n",
              "\n",
              "      const base64 = btoa(String.fromCharCode.apply(null, chunk));\n",
              "      yield {\n",
              "        response: {\n",
              "          action: 'append',\n",
              "          file: file.name,\n",
              "          data: base64,\n",
              "        },\n",
              "      };\n",
              "\n",
              "      let percentDone = fileData.byteLength === 0 ?\n",
              "          100 :\n",
              "          Math.round((position / fileData.byteLength) * 100);\n",
              "      percent.textContent = `${percentDone}% done`;\n",
              "\n",
              "    } while (position < fileData.byteLength);\n",
              "  }\n",
              "\n",
              "  // All done.\n",
              "  yield {\n",
              "    response: {\n",
              "      action: 'complete',\n",
              "    }\n",
              "  };\n",
              "}\n",
              "\n",
              "scope.google = scope.google || {};\n",
              "scope.google.colab = scope.google.colab || {};\n",
              "scope.google.colab._files = {\n",
              "  _uploadFiles,\n",
              "  _uploadFilesContinue,\n",
              "};\n",
              "})(self);\n",
              "</script> "
            ]
          },
          "metadata": {}
        },
        {
          "output_type": "stream",
          "name": "stdout",
          "text": [
            "Saving kaggle.json to kaggle.json\n"
          ]
        },
        {
          "output_type": "execute_result",
          "data": {
            "text/plain": [
              "{'kaggle.json': b'{\"username\":\"cherfo17\",\"key\":\"b71b17e376fd5d1b31ada0103f81e5a1\"}'}"
            ]
          },
          "metadata": {},
          "execution_count": 6
        }
      ]
    },
    {
      "cell_type": "code",
      "source": [
        "!mkdir -p ~/.kaggle\n",
        "!cp kaggle.json ~/.kaggle/\n",
        "!chmod 600 ~/.kaggle/kaggle.json"
      ],
      "metadata": {
        "id": "_rIMcUSIGqOq"
      },
      "execution_count": null,
      "outputs": []
    },
    {
      "cell_type": "code",
      "source": [
        "!kaggle datasets download -d orvile/brain-cancer-mri-dataset"
      ],
      "metadata": {
        "id": "1NCZNxENJbtG",
        "colab": {
          "base_uri": "https://localhost:8080/"
        },
        "outputId": "6f7cd2a7-2723-4357-fc69-cea95a5db4ac"
      },
      "execution_count": null,
      "outputs": [
        {
          "output_type": "stream",
          "name": "stdout",
          "text": [
            "Dataset URL: https://www.kaggle.com/datasets/orvile/brain-cancer-mri-dataset\n",
            "License(s): CC-BY-SA-4.0\n",
            "Downloading brain-cancer-mri-dataset.zip to /content\n",
            " 82% 119M/144M [00:00<00:00, 1.24GB/s]\n",
            "100% 144M/144M [00:00<00:00, 1.24GB/s]\n"
          ]
        }
      ]
    },
    {
      "cell_type": "code",
      "source": [
        "zip_file_path = '/content/brain-cancer-mri-dataset.zip'\n",
        "\n",
        "extracted_folder_path = '/content/Dataset'\n",
        "\n",
        "with zipfile.ZipFile(zip_file_path, 'r') as zip_ref:\n",
        "    zip_ref.extractall(extracted_folder_path)"
      ],
      "metadata": {
        "id": "x47lbVdNGsuE"
      },
      "execution_count": null,
      "outputs": []
    },
    {
      "cell_type": "code",
      "source": [
        "imagenes = []\n",
        "etiquetas = []"
      ],
      "metadata": {
        "id": "ezigx80RAPwR"
      },
      "execution_count": null,
      "outputs": []
    },
    {
      "cell_type": "code",
      "source": [
        "import os\n",
        "import glob\n",
        "import numpy as np\n",
        "import cv2\n",
        "from sklearn.model_selection import train_test_split\n",
        "import tensorflow as tf\n",
        "\n",
        "# 1) Carga y preprocesamiento inicial\n",
        "carpeta_principal = '/content/Dataset/Brain_Cancer raw MRI data/Brain_Cancer'\n",
        "imagenes, etiquetas = [], []\n",
        "\n",
        "# Itera subcarpetas (una por clase)\n",
        "for z, subcarpeta in enumerate(sorted(glob.glob(os.path.join(carpeta_principal, '*')))):\n",
        "    if not os.path.isdir(subcarpeta):\n",
        "        continue\n",
        "    print(f'Clase {z} → {os.path.basename(subcarpeta)}')\n",
        "    for ruta in glob.iglob(os.path.join(subcarpeta, '*.jpg')):\n",
        "        img = cv2.imread(ruta, cv2.IMREAD_GRAYSCALE)        # Lee ya en gris\n",
        "        img = cv2.resize(img, (512, 512), interpolation=cv2.INTER_AREA)\n",
        "        imagenes.append(img.astype(np.float32) / 255.0)      # normaliza aquí\n",
        "        etiquetas.append(z)\n",
        "\n",
        "imagenes = np.stack(imagenes, axis=0)   # shape: (N, 512, 512)\n",
        "etiquetas = np.array(etiquetas)         # shape: (N,)\n",
        "\n",
        "# 2) Barajar y partir (con estratificación)\n",
        "#    Shuffle explícito antes de split para mayor aleatoriedad\n",
        "perm = np.random.RandomState(seed=42).permutation(len(imagenes))\n",
        "imagenes, etiquetas = imagenes[perm], etiquetas[perm]\n",
        "\n",
        "train_imgs, test_imgs, train_lbls, test_lbls = train_test_split(\n",
        "    imagenes, etiquetas,\n",
        "    test_size=0.25,\n",
        "    random_state=42,\n",
        "    stratify=etiquetas\n",
        ")\n",
        "\n",
        "# 3) Datos para tf.data: añade canal y one-hot\n",
        "num_classes = len(np.unique(etiquetas))\n",
        "\n",
        "def make_dataset(images, labels, batch_size=32, shuffle=True):\n",
        "    # Expande canal y convierte labels a one-hot\n",
        "    images = images[..., np.newaxis]                        # (B, 512,512,1)\n",
        "    labels = tf.keras.utils.to_categorical(labels, num_classes)\n",
        "\n",
        "    ds = tf.data.Dataset.from_tensor_slices((images, labels))\n",
        "    if shuffle:\n",
        "        ds = ds.shuffle(buffer_size=len(images), seed=42)\n",
        "    ds = ds.batch(batch_size)\n",
        "    ds = ds.cache()                # Opcional, en RAM si te cabe\n",
        "    ds = ds.prefetch(tf.data.AUTOTUNE)\n",
        "    return ds\n",
        "\n",
        "batch_size = 62\n",
        "train_ds = make_dataset(train_imgs, train_lbls, batch_size=batch_size, shuffle=True)\n",
        "val_ds   = make_dataset(test_imgs,  test_lbls,  batch_size=batch_size, shuffle=False)\n",
        "\n",
        "# 4) Prueba rápida: muestra un batch\n",
        "for x_batch, y_batch in train_ds.take(1):\n",
        "    print(\"Shape batch imágenes:\", x_batch.shape)   # → (batch_size,512,512,1)\n",
        "    print(\"Shape batch labels:\", y_batch.shape)     # → (batch_size, num_classes)\n",
        "    break\n"
      ],
      "metadata": {
        "colab": {
          "base_uri": "https://localhost:8080/"
        },
        "id": "84Cb9y6vpgZW",
        "outputId": "edbc53de-862b-4f8d-9cb3-51c0a93bc09f"
      },
      "execution_count": null,
      "outputs": [
        {
          "output_type": "stream",
          "name": "stdout",
          "text": [
            "Clase 0 → brain_glioma\n",
            "Clase 1 → brain_menin\n",
            "Clase 2 → brain_tumor\n",
            "Shape batch imágenes: (16, 512, 512, 1)\n",
            "Shape batch labels: (16, 3)\n"
          ]
        }
      ]
    },
    {
      "cell_type": "code",
      "source": [
        "# Muestra la distribución de etiquetas en el primer batch\n",
        "for x_batch, y_batch in train_ds.take(1):\n",
        "    counts = tf.reduce_sum(y_batch, axis=0).numpy()\n",
        "    print(\"Instancias por clase en batch:\", counts)\n",
        "    break"
      ],
      "metadata": {
        "colab": {
          "base_uri": "https://localhost:8080/"
        },
        "id": "q1imvNlbsiPo",
        "outputId": "76d859ea-ce2a-4dda-f784-95fa3fc9c2c2"
      },
      "execution_count": null,
      "outputs": [
        {
          "output_type": "stream",
          "name": "stdout",
          "text": [
            "Instancias por clase en batch: [3. 8. 5.]\n"
          ]
        }
      ]
    },
    {
      "cell_type": "code",
      "source": [
        "import os, glob, cv2\n",
        "import numpy as np\n",
        "from sklearn.model_selection import train_test_split\n",
        "from sklearn.metrics import classification_report, confusion_matrix\n",
        "from sklearn.utils.class_weight import compute_class_weight\n",
        "import tensorflow as tf\n",
        "from tensorflow.keras import layers, models, regularizers\n",
        "\n",
        "# --- 1. Aumento de datos ---\n",
        "data_augmentation = tf.keras.Sequential([\n",
        "    layers.RandomFlip(\"horizontal\"),\n",
        "    layers.RandomRotation(0.1),\n",
        "    layers.RandomZoom(0.1),\n",
        "], name=\"data_augmentation\")\n",
        "\n",
        "# --- 2. Construcción del modelo ---\n",
        "def build_high_accuracy_model(input_shape=(512, 512, 1), num_classes=3):\n",
        "    inputs = layers.Input(shape=input_shape, name=\"input_gray\")\n",
        "    x = layers.Conv2D(3, kernel_size=3, padding=\"same\", name=\"to_rgb\")(inputs)\n",
        "    x = data_augmentation(x)\n",
        "\n",
        "    base_model = tf.keras.applications.MobileNetV3Small(\n",
        "        input_shape=(512, 512, 3),\n",
        "        include_top=False,\n",
        "        weights=\"imagenet\",\n",
        "        pooling=\"avg\"\n",
        "    )\n",
        "    x = base_model(x)\n",
        "\n",
        "    x = layers.Dense(128, kernel_regularizer=regularizers.l2(1e-4), name=\"fc1\")(x)\n",
        "    x = layers.BatchNormalization()(x)\n",
        "    x = layers.Activation(\"relu\")(x)\n",
        "    x = layers.Dropout(0.5)(x)\n",
        "    outputs = layers.Dense(num_classes, activation=\"softmax\", name=\"predictions\")(x)\n",
        "\n",
        "    model = models.Model(inputs=inputs, outputs=outputs, name=\"HighAccNet_GrayTransfer\")\n",
        "    return model\n",
        "\n",
        "# --- 3. Class Weights ---\n",
        "class_weights = compute_class_weight(\n",
        "    class_weight=\"balanced\",\n",
        "    classes=np.unique(train_lbls),\n",
        "    y=train_lbls\n",
        ")\n",
        "class_weight_dict = {i: w for i, w in enumerate(class_weights)}\n",
        "print(\"Pesos por clase:\", class_weight_dict)\n",
        "\n",
        "# --- 4. Callbacks ---\n",
        "callbacks = [\n",
        "    tf.keras.callbacks.EarlyStopping(\n",
        "        monitor=\"val_accuracy\",\n",
        "        patience=10,\n",
        "        restore_best_weights=True\n",
        "    )\n",
        "]\n",
        "\n",
        "# --- 5. Fase 1: Congelar MobileNetV3 ---\n",
        "model = build_high_accuracy_model()\n",
        "model.get_layer('MobileNetV3Small').trainable = False\n",
        "\n",
        "model.compile(\n",
        "    optimizer=tf.keras.optimizers.Adam(1e-3),\n",
        "    loss='categorical_crossentropy',\n",
        "    metrics=['accuracy']\n",
        ")\n",
        "\n",
        "print(\"\\nEntrenando fase 1 (solo capas densas)...\")\n",
        "history_1 = model.fit(\n",
        "    train_ds,\n",
        "    validation_data=val_ds,\n",
        "    epochs=10,\n",
        "    callbacks=callbacks,\n",
        "    class_weight=class_weight_dict\n",
        ")\n",
        "\n",
        "# --- 6. Fase 2: Fine-tune completo ---\n",
        "model.get_layer('MobileNetV3Small').trainable = True\n",
        "\n",
        "model.compile(\n",
        "    optimizer=tf.keras.optimizers.Adam(1e-5),\n",
        "    loss='categorical_crossentropy',\n",
        "    metrics=['accuracy']\n",
        ")\n",
        "\n",
        "print(\"\\nEntrenando fase 2 (fine-tuning completo)...\")\n",
        "history_2 = model.fit(\n",
        "    train_ds,\n",
        "    validation_data=val_ds,\n",
        "    epochs=40,\n",
        "    callbacks=callbacks,\n",
        "    class_weight=class_weight_dict\n",
        ")\n"
      ],
      "metadata": {
        "colab": {
          "base_uri": "https://localhost:8080/"
        },
        "id": "3XizVMLrHsQQ",
        "outputId": "6e60b276-9ce6-4e7b-cec8-15cc645fecdf"
      },
      "execution_count": null,
      "outputs": [
        {
          "output_type": "stream",
          "name": "stdout",
          "text": [
            "Pesos por clase: {0: np.float64(1.0073186959414504), 1: np.float64(1.0073186959414504), 2: np.float64(0.9856770833333334)}\n"
          ]
        },
        {
          "output_type": "stream",
          "name": "stderr",
          "text": [
            "/usr/local/lib/python3.11/dist-packages/keras/src/applications/mobilenet_v3.py:452: UserWarning: `input_shape` is undefined or non-square, or `rows` is not 224. Weights for input shape (224, 224) will be loaded as the default.\n",
            "  return MobileNetV3(\n"
          ]
        },
        {
          "output_type": "stream",
          "name": "stdout",
          "text": [
            "\n",
            "Entrenando fase 1 (solo capas densas)...\n",
            "Epoch 1/10\n",
            "\u001b[1m284/284\u001b[0m \u001b[32m━━━━━━━━━━━━━━━━━━━━\u001b[0m\u001b[37m\u001b[0m \u001b[1m20s\u001b[0m 41ms/step - accuracy: 0.6084 - loss: 0.8612 - val_accuracy: 0.3309 - val_loss: 1.9592\n",
            "Epoch 2/10\n",
            "\u001b[1m284/284\u001b[0m \u001b[32m━━━━━━━━━━━━━━━━━━━━\u001b[0m\u001b[37m\u001b[0m \u001b[1m10s\u001b[0m 35ms/step - accuracy: 0.7046 - loss: 0.6922 - val_accuracy: 0.4293 - val_loss: 2.8812\n",
            "Epoch 3/10\n",
            "\u001b[1m284/284\u001b[0m \u001b[32m━━━━━━━━━━━━━━━━━━━━\u001b[0m\u001b[37m\u001b[0m \u001b[1m10s\u001b[0m 34ms/step - accuracy: 0.7120 - loss: 0.6645 - val_accuracy: 0.3309 - val_loss: 13.8703\n",
            "Epoch 4/10\n",
            "\u001b[1m284/284\u001b[0m \u001b[32m━━━━━━━━━━━━━━━━━━━━\u001b[0m\u001b[37m\u001b[0m \u001b[1m10s\u001b[0m 34ms/step - accuracy: 0.7250 - loss: 0.6453 - val_accuracy: 0.3514 - val_loss: 3.0545\n",
            "Epoch 5/10\n",
            "\u001b[1m284/284\u001b[0m \u001b[32m━━━━━━━━━━━━━━━━━━━━\u001b[0m\u001b[37m\u001b[0m \u001b[1m10s\u001b[0m 34ms/step - accuracy: 0.7575 - loss: 0.6149 - val_accuracy: 0.3309 - val_loss: 9.8887\n",
            "Epoch 6/10\n",
            "\u001b[1m284/284\u001b[0m \u001b[32m━━━━━━━━━━━━━━━━━━━━\u001b[0m\u001b[37m\u001b[0m \u001b[1m10s\u001b[0m 35ms/step - accuracy: 0.7492 - loss: 0.6130 - val_accuracy: 0.5059 - val_loss: 2.8931\n",
            "Epoch 7/10\n",
            "\u001b[1m284/284\u001b[0m \u001b[32m━━━━━━━━━━━━━━━━━━━━\u001b[0m\u001b[37m\u001b[0m \u001b[1m10s\u001b[0m 35ms/step - accuracy: 0.7586 - loss: 0.6126 - val_accuracy: 0.6090 - val_loss: 1.0927\n",
            "Epoch 8/10\n",
            "\u001b[1m284/284\u001b[0m \u001b[32m━━━━━━━━━━━━━━━━━━━━\u001b[0m\u001b[37m\u001b[0m \u001b[1m10s\u001b[0m 34ms/step - accuracy: 0.7631 - loss: 0.5850 - val_accuracy: 0.5218 - val_loss: 1.9292\n",
            "Epoch 9/10\n",
            "\u001b[1m284/284\u001b[0m \u001b[32m━━━━━━━━━━━━━━━━━━━━\u001b[0m\u001b[37m\u001b[0m \u001b[1m10s\u001b[0m 35ms/step - accuracy: 0.7686 - loss: 0.5893 - val_accuracy: 0.7886 - val_loss: 0.5383\n",
            "Epoch 10/10\n",
            "\u001b[1m284/284\u001b[0m \u001b[32m━━━━━━━━━━━━━━━━━━━━\u001b[0m\u001b[37m\u001b[0m \u001b[1m10s\u001b[0m 34ms/step - accuracy: 0.7705 - loss: 0.5833 - val_accuracy: 0.5647 - val_loss: 1.2371\n",
            "\n",
            "Entrenando fase 2 (fine-tuning completo)...\n",
            "Epoch 1/40\n",
            "\u001b[1m284/284\u001b[0m \u001b[32m━━━━━━━━━━━━━━━━━━━━\u001b[0m\u001b[37m\u001b[0m \u001b[1m50s\u001b[0m 80ms/step - accuracy: 0.4792 - loss: 2.5291 - val_accuracy: 0.3382 - val_loss: 12.2701\n",
            "Epoch 2/40\n",
            "\u001b[1m284/284\u001b[0m \u001b[32m━━━━━━━━━━━━━━━━━━━━\u001b[0m\u001b[37m\u001b[0m \u001b[1m21s\u001b[0m 75ms/step - accuracy: 0.7521 - loss: 0.8955 - val_accuracy: 0.3382 - val_loss: 9.9372\n",
            "Epoch 3/40\n",
            "\u001b[1m284/284\u001b[0m \u001b[32m━━━━━━━━━━━━━━━━━━━━\u001b[0m\u001b[37m\u001b[0m \u001b[1m21s\u001b[0m 74ms/step - accuracy: 0.8094 - loss: 0.6627 - val_accuracy: 0.3382 - val_loss: 5.7187\n",
            "Epoch 4/40\n",
            "\u001b[1m284/284\u001b[0m \u001b[32m━━━━━━━━━━━━━━━━━━━━\u001b[0m\u001b[37m\u001b[0m \u001b[1m21s\u001b[0m 75ms/step - accuracy: 0.8531 - loss: 0.5180 - val_accuracy: 0.3382 - val_loss: 4.8935\n",
            "Epoch 5/40\n",
            "\u001b[1m284/284\u001b[0m \u001b[32m━━━━━━━━━━━━━━━━━━━━\u001b[0m\u001b[37m\u001b[0m \u001b[1m21s\u001b[0m 75ms/step - accuracy: 0.8748 - loss: 0.4207 - val_accuracy: 0.3382 - val_loss: 4.6695\n",
            "Epoch 6/40\n",
            "\u001b[1m284/284\u001b[0m \u001b[32m━━━━━━━━━━━━━━━━━━━━\u001b[0m\u001b[37m\u001b[0m \u001b[1m21s\u001b[0m 74ms/step - accuracy: 0.8725 - loss: 0.4005 - val_accuracy: 0.3382 - val_loss: 5.6195\n",
            "Epoch 7/40\n",
            "\u001b[1m284/284\u001b[0m \u001b[32m━━━━━━━━━━━━━━━━━━━━\u001b[0m\u001b[37m\u001b[0m \u001b[1m21s\u001b[0m 75ms/step - accuracy: 0.8926 - loss: 0.3319 - val_accuracy: 0.3382 - val_loss: 6.3738\n",
            "Epoch 8/40\n",
            "\u001b[1m284/284\u001b[0m \u001b[32m━━━━━━━━━━━━━━━━━━━━\u001b[0m\u001b[37m\u001b[0m \u001b[1m21s\u001b[0m 74ms/step - accuracy: 0.8997 - loss: 0.3130 - val_accuracy: 0.3382 - val_loss: 5.4820\n",
            "Epoch 9/40\n",
            "\u001b[1m284/284\u001b[0m \u001b[32m━━━━━━━━━━━━━━━━━━━━\u001b[0m\u001b[37m\u001b[0m \u001b[1m21s\u001b[0m 75ms/step - accuracy: 0.9075 - loss: 0.2769 - val_accuracy: 0.3362 - val_loss: 5.3140\n",
            "Epoch 10/40\n",
            "\u001b[1m284/284\u001b[0m \u001b[32m━━━━━━━━━━━━━━━━━━━━\u001b[0m\u001b[37m\u001b[0m \u001b[1m21s\u001b[0m 75ms/step - accuracy: 0.9205 - loss: 0.2565 - val_accuracy: 0.3355 - val_loss: 6.0413\n",
            "Epoch 11/40\n",
            "\u001b[1m284/284\u001b[0m \u001b[32m━━━━━━━━━━━━━━━━━━━━\u001b[0m\u001b[37m\u001b[0m \u001b[1m21s\u001b[0m 75ms/step - accuracy: 0.9211 - loss: 0.2454 - val_accuracy: 0.3395 - val_loss: 6.1572\n",
            "Epoch 12/40\n",
            "\u001b[1m284/284\u001b[0m \u001b[32m━━━━━━━━━━━━━━━━━━━━\u001b[0m\u001b[37m\u001b[0m \u001b[1m21s\u001b[0m 75ms/step - accuracy: 0.9258 - loss: 0.2391 - val_accuracy: 0.3448 - val_loss: 5.7468\n",
            "Epoch 13/40\n",
            "\u001b[1m284/284\u001b[0m \u001b[32m━━━━━━━━━━━━━━━━━━━━\u001b[0m\u001b[37m\u001b[0m \u001b[1m22s\u001b[0m 79ms/step - accuracy: 0.9271 - loss: 0.2358 - val_accuracy: 0.3395 - val_loss: 5.9005\n",
            "Epoch 14/40\n",
            "\u001b[1m284/284\u001b[0m \u001b[32m━━━━━━━━━━━━━━━━━━━━\u001b[0m\u001b[37m\u001b[0m \u001b[1m21s\u001b[0m 75ms/step - accuracy: 0.9335 - loss: 0.2049 - val_accuracy: 0.3382 - val_loss: 6.4842\n",
            "Epoch 15/40\n",
            "\u001b[1m284/284\u001b[0m \u001b[32m━━━━━━━━━━━━━━━━━━━━\u001b[0m\u001b[37m\u001b[0m \u001b[1m21s\u001b[0m 74ms/step - accuracy: 0.9345 - loss: 0.2002 - val_accuracy: 0.3448 - val_loss: 5.9481\n",
            "Epoch 16/40\n",
            "\u001b[1m284/284\u001b[0m \u001b[32m━━━━━━━━━━━━━━━━━━━━\u001b[0m\u001b[37m\u001b[0m \u001b[1m21s\u001b[0m 75ms/step - accuracy: 0.9397 - loss: 0.1898 - val_accuracy: 0.3481 - val_loss: 5.8988\n",
            "Epoch 17/40\n",
            "\u001b[1m284/284\u001b[0m \u001b[32m━━━━━━━━━━━━━━━━━━━━\u001b[0m\u001b[37m\u001b[0m \u001b[1m22s\u001b[0m 76ms/step - accuracy: 0.9470 - loss: 0.1773 - val_accuracy: 0.3818 - val_loss: 4.2708\n",
            "Epoch 18/40\n",
            "\u001b[1m284/284\u001b[0m \u001b[32m━━━━━━━━━━━━━━━━━━━━\u001b[0m\u001b[37m\u001b[0m \u001b[1m21s\u001b[0m 75ms/step - accuracy: 0.9505 - loss: 0.1551 - val_accuracy: 0.4491 - val_loss: 3.2332\n",
            "Epoch 19/40\n",
            "\u001b[1m284/284\u001b[0m \u001b[32m━━━━━━━━━━━━━━━━━━━━\u001b[0m\u001b[37m\u001b[0m \u001b[1m21s\u001b[0m 75ms/step - accuracy: 0.9458 - loss: 0.1664 - val_accuracy: 0.5079 - val_loss: 2.7721\n",
            "Epoch 20/40\n",
            "\u001b[1m284/284\u001b[0m \u001b[32m━━━━━━━━━━━━━━━━━━━━\u001b[0m\u001b[37m\u001b[0m \u001b[1m21s\u001b[0m 75ms/step - accuracy: 0.9579 - loss: 0.1451 - val_accuracy: 0.5291 - val_loss: 2.4436\n",
            "Epoch 21/40\n",
            "\u001b[1m284/284\u001b[0m \u001b[32m━━━━━━━━━━━━━━━━━━━━\u001b[0m\u001b[37m\u001b[0m \u001b[1m21s\u001b[0m 75ms/step - accuracy: 0.9599 - loss: 0.1414 - val_accuracy: 0.5925 - val_loss: 1.7982\n",
            "Epoch 22/40\n",
            "\u001b[1m284/284\u001b[0m \u001b[32m━━━━━━━━━━━━━━━━━━━━\u001b[0m\u001b[37m\u001b[0m \u001b[1m21s\u001b[0m 75ms/step - accuracy: 0.9613 - loss: 0.1403 - val_accuracy: 0.5971 - val_loss: 1.8000\n",
            "Epoch 23/40\n",
            "\u001b[1m284/284\u001b[0m \u001b[32m━━━━━━━━━━━━━━━━━━━━\u001b[0m\u001b[37m\u001b[0m \u001b[1m21s\u001b[0m 75ms/step - accuracy: 0.9605 - loss: 0.1345 - val_accuracy: 0.5634 - val_loss: 1.8416\n",
            "Epoch 24/40\n",
            "\u001b[1m284/284\u001b[0m \u001b[32m━━━━━━━━━━━━━━━━━━━━\u001b[0m\u001b[37m\u001b[0m \u001b[1m21s\u001b[0m 75ms/step - accuracy: 0.9609 - loss: 0.1277 - val_accuracy: 0.5707 - val_loss: 1.6561\n",
            "Epoch 25/40\n",
            "\u001b[1m284/284\u001b[0m \u001b[32m━━━━━━━━━━━━━━━━━━━━\u001b[0m\u001b[37m\u001b[0m \u001b[1m22s\u001b[0m 76ms/step - accuracy: 0.9672 - loss: 0.1251 - val_accuracy: 0.4234 - val_loss: 3.1817\n",
            "Epoch 26/40\n",
            "\u001b[1m284/284\u001b[0m \u001b[32m━━━━━━━━━━━━━━━━━━━━\u001b[0m\u001b[37m\u001b[0m \u001b[1m22s\u001b[0m 77ms/step - accuracy: 0.9606 - loss: 0.1209 - val_accuracy: 0.5059 - val_loss: 2.3795\n",
            "Epoch 27/40\n",
            "\u001b[1m284/284\u001b[0m \u001b[32m━━━━━━━━━━━━━━━━━━━━\u001b[0m\u001b[37m\u001b[0m \u001b[1m22s\u001b[0m 77ms/step - accuracy: 0.9674 - loss: 0.1142 - val_accuracy: 0.4921 - val_loss: 2.1872\n",
            "Epoch 28/40\n",
            "\u001b[1m284/284\u001b[0m \u001b[32m━━━━━━━━━━━━━━━━━━━━\u001b[0m\u001b[37m\u001b[0m \u001b[1m22s\u001b[0m 78ms/step - accuracy: 0.9682 - loss: 0.1101 - val_accuracy: 0.6631 - val_loss: 1.0661\n",
            "Epoch 29/40\n",
            "\u001b[1m284/284\u001b[0m \u001b[32m━━━━━━━━━━━━━━━━━━━━\u001b[0m\u001b[37m\u001b[0m \u001b[1m22s\u001b[0m 78ms/step - accuracy: 0.9730 - loss: 0.1033 - val_accuracy: 0.6380 - val_loss: 1.1807\n",
            "Epoch 30/40\n",
            "\u001b[1m284/284\u001b[0m \u001b[32m━━━━━━━━━━━━━━━━━━━━\u001b[0m\u001b[37m\u001b[0m \u001b[1m22s\u001b[0m 77ms/step - accuracy: 0.9742 - loss: 0.1012 - val_accuracy: 0.6783 - val_loss: 1.1454\n",
            "Epoch 31/40\n",
            "\u001b[1m284/284\u001b[0m \u001b[32m━━━━━━━━━━━━━━━━━━━━\u001b[0m\u001b[37m\u001b[0m \u001b[1m21s\u001b[0m 75ms/step - accuracy: 0.9778 - loss: 0.0940 - val_accuracy: 0.6275 - val_loss: 1.5269\n",
            "Epoch 32/40\n",
            "\u001b[1m284/284\u001b[0m \u001b[32m━━━━━━━━━━━━━━━━━━━━\u001b[0m\u001b[37m\u001b[0m \u001b[1m22s\u001b[0m 76ms/step - accuracy: 0.9779 - loss: 0.0889 - val_accuracy: 0.6658 - val_loss: 1.2447\n",
            "Epoch 33/40\n",
            "\u001b[1m284/284\u001b[0m \u001b[32m━━━━━━━━━━━━━━━━━━━━\u001b[0m\u001b[37m\u001b[0m \u001b[1m21s\u001b[0m 75ms/step - accuracy: 0.9767 - loss: 0.0883 - val_accuracy: 0.5066 - val_loss: 1.8977\n",
            "Epoch 34/40\n",
            "\u001b[1m284/284\u001b[0m \u001b[32m━━━━━━━━━━━━━━━━━━━━\u001b[0m\u001b[37m\u001b[0m \u001b[1m21s\u001b[0m 75ms/step - accuracy: 0.9791 - loss: 0.0891 - val_accuracy: 0.6856 - val_loss: 1.2776\n",
            "Epoch 35/40\n",
            "\u001b[1m284/284\u001b[0m \u001b[32m━━━━━━━━━━━━━━━━━━━━\u001b[0m\u001b[37m\u001b[0m \u001b[1m21s\u001b[0m 75ms/step - accuracy: 0.9785 - loss: 0.0916 - val_accuracy: 0.5264 - val_loss: 2.3541\n",
            "Epoch 36/40\n",
            "\u001b[1m284/284\u001b[0m \u001b[32m━━━━━━━━━━━━━━━━━━━━\u001b[0m\u001b[37m\u001b[0m \u001b[1m21s\u001b[0m 75ms/step - accuracy: 0.9769 - loss: 0.0882 - val_accuracy: 0.6697 - val_loss: 1.3287\n",
            "Epoch 37/40\n",
            "\u001b[1m284/284\u001b[0m \u001b[32m━━━━━━━━━━━━━━━━━━━━\u001b[0m\u001b[37m\u001b[0m \u001b[1m21s\u001b[0m 75ms/step - accuracy: 0.9781 - loss: 0.0871 - val_accuracy: 0.5165 - val_loss: 2.5271\n",
            "Epoch 38/40\n",
            "\u001b[1m284/284\u001b[0m \u001b[32m━━━━━━━━━━━━━━━━━━━━\u001b[0m\u001b[37m\u001b[0m \u001b[1m21s\u001b[0m 75ms/step - accuracy: 0.9865 - loss: 0.0749 - val_accuracy: 0.6480 - val_loss: 1.3740\n",
            "Epoch 39/40\n",
            "\u001b[1m284/284\u001b[0m \u001b[32m━━━━━━━━━━━━━━━━━━━━\u001b[0m\u001b[37m\u001b[0m \u001b[1m21s\u001b[0m 75ms/step - accuracy: 0.9838 - loss: 0.0791 - val_accuracy: 0.7054 - val_loss: 1.0804\n",
            "Epoch 40/40\n",
            "\u001b[1m284/284\u001b[0m \u001b[32m━━━━━━━━━━━━━━━━━━━━\u001b[0m\u001b[37m\u001b[0m \u001b[1m21s\u001b[0m 75ms/step - accuracy: 0.9854 - loss: 0.0713 - val_accuracy: 0.7417 - val_loss: 0.8746\n"
          ]
        }
      ]
    },
    {
      "cell_type": "code",
      "source": [
        "import collections\n",
        "labels_val = []\n",
        "for _, y_batch in val_ds:\n",
        "    labels_val.extend(np.argmax(y_batch.numpy(), axis=1))\n",
        "\n",
        "print(\"Distribución en validación:\", collections.Counter(labels_val))"
      ],
      "metadata": {
        "colab": {
          "base_uri": "https://localhost:8080/"
        },
        "id": "akV6kKs4y3aj",
        "outputId": "3d8255ca-c373-433b-d9b6-938fe15a72fd"
      },
      "execution_count": null,
      "outputs": [
        {
          "output_type": "stream",
          "name": "stdout",
          "text": [
            "Distribución en validación: Counter({np.int64(2): 512, np.int64(1): 501, np.int64(0): 501})\n"
          ]
        }
      ]
    },
    {
      "cell_type": "code",
      "source": [
        "# --- 7. Evaluación final ---\n",
        "y_true, y_pred = [], []\n",
        "for x_batch, y_batch in val_ds:\n",
        "    preds = model.predict(x_batch, verbose=0)\n",
        "    y_pred.extend(np.argmax(preds, axis=1))\n",
        "    y_true.extend(np.argmax(y_batch.numpy(), axis=1))\n",
        "\n",
        "cm = confusion_matrix(y_true, y_pred)\n",
        "cr = classification_report(y_true, y_pred, target_names=[f\"Clase {i}\" for i in range(3)])\n",
        "\n",
        "print(\"\\n🔍 Matriz de confusión:\\n\", cm)\n",
        "print(\"\\n📋 Reporte de clasificación:\\n\", cr)\n"
      ],
      "metadata": {
        "id": "ypLLf0OKKqX8",
        "colab": {
          "base_uri": "https://localhost:8080/"
        },
        "outputId": "7aedfafd-6fc3-4d62-8b01-ca932d766093"
      },
      "execution_count": null,
      "outputs": [
        {
          "output_type": "stream",
          "name": "stdout",
          "text": [
            "\n",
            "🔍 Matriz de confusión:\n",
            " [[492   3   6]\n",
            " [170 174 157]\n",
            " [ 53   2 457]]\n",
            "\n",
            "📋 Reporte de clasificación:\n",
            "               precision    recall  f1-score   support\n",
            "\n",
            "     Clase 0       0.69      0.98      0.81       501\n",
            "     Clase 1       0.97      0.35      0.51       501\n",
            "     Clase 2       0.74      0.89      0.81       512\n",
            "\n",
            "    accuracy                           0.74      1514\n",
            "   macro avg       0.80      0.74      0.71      1514\n",
            "weighted avg       0.80      0.74      0.71      1514\n",
            "\n"
          ]
        }
      ]
    },
    {
      "cell_type": "code",
      "source": [
        "model.save('modelo_entrenado.keras')"
      ],
      "metadata": {
        "id": "bM1JrRZqEIPb"
      },
      "execution_count": null,
      "outputs": []
    }
  ]
}