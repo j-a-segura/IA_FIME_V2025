{
  "nbformat": 4,
  "nbformat_minor": 0,
  "metadata": {
    "colab": {
      "provenance": []
    },
    "kernelspec": {
      "name": "python3",
      "display_name": "Python 3"
    },
    "language_info": {
      "name": "python"
    }
  },
  "cells": [
    {
      "cell_type": "code",
      "source": [
        "!wget https://raw.githubusercontent.com/FernandoV17/IA_VERANOS/refs/heads/main/act2/data/diabetes.csv"
      ],
      "metadata": {
        "id": "4Nhfs_xBd6Hc",
        "colab": {
          "base_uri": "https://localhost:8080/"
        },
        "outputId": "9f469a65-fa37-4a2a-c41f-78ec88307b85"
      },
      "execution_count": 8,
      "outputs": [
        {
          "output_type": "stream",
          "name": "stdout",
          "text": [
            "--2025-07-04 06:02:41--  https://raw.githubusercontent.com/FernandoV17/IA_VERANOS/refs/heads/main/act2/data/diabetes.csv\n",
            "Resolving raw.githubusercontent.com (raw.githubusercontent.com)... 185.199.111.133, 185.199.109.133, 185.199.110.133, ...\n",
            "Connecting to raw.githubusercontent.com (raw.githubusercontent.com)|185.199.111.133|:443... connected.\n",
            "HTTP request sent, awaiting response... 404 Not Found\n",
            "2025-07-04 06:02:41 ERROR 404: Not Found.\n",
            "\n"
          ]
        }
      ]
    },
    {
      "cell_type": "code",
      "source": [
        "#Si Clonaste el Respositorio\n",
        "data_path = '/content/IA_VERANOS/ACT2/DATA/diabetes.csv'"
      ],
      "metadata": {
        "id": "Qf75WvGkehM2"
      },
      "execution_count": 9,
      "outputs": []
    },
    {
      "cell_type": "code",
      "source": [
        "#Si nada mas usas google collab\n",
        "data_path = '/content/diabetes.csv'"
      ],
      "metadata": {
        "id": "c0IlTssVe1EM"
      },
      "execution_count": 10,
      "outputs": []
    },
    {
      "cell_type": "code",
      "execution_count": 11,
      "metadata": {
        "id": "Kxv15Vm8Wvsn"
      },
      "outputs": [],
      "source": [
        "import matplotlib.pyplot as plt\n",
        "import pandas as pd\n",
        "import numpy as np\n",
        "import seaborn as sns\n",
        "from sklearn import linear_model\n",
        "from sklearn.preprocessing import MinMaxScaler"
      ]
    },
    {
      "cell_type": "markdown",
      "source": [
        "Parte 1"
      ],
      "metadata": {
        "id": "9g6_d_UbfxND"
      }
    },
    {
      "cell_type": "code",
      "source": [
        "df = pd.read_csv(data_path)"
      ],
      "metadata": {
        "id": "cnWVFIKOYQBv",
        "colab": {
          "base_uri": "https://localhost:8080/",
          "height": 287
        },
        "outputId": "67e373ee-d2e7-4a43-b45d-630cb00b7121"
      },
      "execution_count": 12,
      "outputs": [
        {
          "output_type": "error",
          "ename": "FileNotFoundError",
          "evalue": "[Errno 2] No such file or directory: '/content/diabetes.csv'",
          "traceback": [
            "\u001b[0;31m---------------------------------------------------------------------------\u001b[0m",
            "\u001b[0;31mFileNotFoundError\u001b[0m                         Traceback (most recent call last)",
            "\u001b[0;32m/tmp/ipython-input-12-606058143.py\u001b[0m in \u001b[0;36m<cell line: 0>\u001b[0;34m()\u001b[0m\n\u001b[0;32m----> 1\u001b[0;31m \u001b[0mdf\u001b[0m \u001b[0;34m=\u001b[0m \u001b[0mpd\u001b[0m\u001b[0;34m.\u001b[0m\u001b[0mread_csv\u001b[0m\u001b[0;34m(\u001b[0m\u001b[0mdata_path\u001b[0m\u001b[0;34m)\u001b[0m\u001b[0;34m\u001b[0m\u001b[0;34m\u001b[0m\u001b[0m\n\u001b[0m",
            "\u001b[0;32m/usr/local/lib/python3.11/dist-packages/pandas/io/parsers/readers.py\u001b[0m in \u001b[0;36mread_csv\u001b[0;34m(filepath_or_buffer, sep, delimiter, header, names, index_col, usecols, dtype, engine, converters, true_values, false_values, skipinitialspace, skiprows, skipfooter, nrows, na_values, keep_default_na, na_filter, verbose, skip_blank_lines, parse_dates, infer_datetime_format, keep_date_col, date_parser, date_format, dayfirst, cache_dates, iterator, chunksize, compression, thousands, decimal, lineterminator, quotechar, quoting, doublequote, escapechar, comment, encoding, encoding_errors, dialect, on_bad_lines, delim_whitespace, low_memory, memory_map, float_precision, storage_options, dtype_backend)\u001b[0m\n\u001b[1;32m   1024\u001b[0m     \u001b[0mkwds\u001b[0m\u001b[0;34m.\u001b[0m\u001b[0mupdate\u001b[0m\u001b[0;34m(\u001b[0m\u001b[0mkwds_defaults\u001b[0m\u001b[0;34m)\u001b[0m\u001b[0;34m\u001b[0m\u001b[0;34m\u001b[0m\u001b[0m\n\u001b[1;32m   1025\u001b[0m \u001b[0;34m\u001b[0m\u001b[0m\n\u001b[0;32m-> 1026\u001b[0;31m     \u001b[0;32mreturn\u001b[0m \u001b[0m_read\u001b[0m\u001b[0;34m(\u001b[0m\u001b[0mfilepath_or_buffer\u001b[0m\u001b[0;34m,\u001b[0m \u001b[0mkwds\u001b[0m\u001b[0;34m)\u001b[0m\u001b[0;34m\u001b[0m\u001b[0;34m\u001b[0m\u001b[0m\n\u001b[0m\u001b[1;32m   1027\u001b[0m \u001b[0;34m\u001b[0m\u001b[0m\n\u001b[1;32m   1028\u001b[0m \u001b[0;34m\u001b[0m\u001b[0m\n",
            "\u001b[0;32m/usr/local/lib/python3.11/dist-packages/pandas/io/parsers/readers.py\u001b[0m in \u001b[0;36m_read\u001b[0;34m(filepath_or_buffer, kwds)\u001b[0m\n\u001b[1;32m    618\u001b[0m \u001b[0;34m\u001b[0m\u001b[0m\n\u001b[1;32m    619\u001b[0m     \u001b[0;31m# Create the parser.\u001b[0m\u001b[0;34m\u001b[0m\u001b[0;34m\u001b[0m\u001b[0m\n\u001b[0;32m--> 620\u001b[0;31m     \u001b[0mparser\u001b[0m \u001b[0;34m=\u001b[0m \u001b[0mTextFileReader\u001b[0m\u001b[0;34m(\u001b[0m\u001b[0mfilepath_or_buffer\u001b[0m\u001b[0;34m,\u001b[0m \u001b[0;34m**\u001b[0m\u001b[0mkwds\u001b[0m\u001b[0;34m)\u001b[0m\u001b[0;34m\u001b[0m\u001b[0;34m\u001b[0m\u001b[0m\n\u001b[0m\u001b[1;32m    621\u001b[0m \u001b[0;34m\u001b[0m\u001b[0m\n\u001b[1;32m    622\u001b[0m     \u001b[0;32mif\u001b[0m \u001b[0mchunksize\u001b[0m \u001b[0;32mor\u001b[0m \u001b[0miterator\u001b[0m\u001b[0;34m:\u001b[0m\u001b[0;34m\u001b[0m\u001b[0;34m\u001b[0m\u001b[0m\n",
            "\u001b[0;32m/usr/local/lib/python3.11/dist-packages/pandas/io/parsers/readers.py\u001b[0m in \u001b[0;36m__init__\u001b[0;34m(self, f, engine, **kwds)\u001b[0m\n\u001b[1;32m   1618\u001b[0m \u001b[0;34m\u001b[0m\u001b[0m\n\u001b[1;32m   1619\u001b[0m         \u001b[0mself\u001b[0m\u001b[0;34m.\u001b[0m\u001b[0mhandles\u001b[0m\u001b[0;34m:\u001b[0m \u001b[0mIOHandles\u001b[0m \u001b[0;34m|\u001b[0m \u001b[0;32mNone\u001b[0m \u001b[0;34m=\u001b[0m \u001b[0;32mNone\u001b[0m\u001b[0;34m\u001b[0m\u001b[0;34m\u001b[0m\u001b[0m\n\u001b[0;32m-> 1620\u001b[0;31m         \u001b[0mself\u001b[0m\u001b[0;34m.\u001b[0m\u001b[0m_engine\u001b[0m \u001b[0;34m=\u001b[0m \u001b[0mself\u001b[0m\u001b[0;34m.\u001b[0m\u001b[0m_make_engine\u001b[0m\u001b[0;34m(\u001b[0m\u001b[0mf\u001b[0m\u001b[0;34m,\u001b[0m \u001b[0mself\u001b[0m\u001b[0;34m.\u001b[0m\u001b[0mengine\u001b[0m\u001b[0;34m)\u001b[0m\u001b[0;34m\u001b[0m\u001b[0;34m\u001b[0m\u001b[0m\n\u001b[0m\u001b[1;32m   1621\u001b[0m \u001b[0;34m\u001b[0m\u001b[0m\n\u001b[1;32m   1622\u001b[0m     \u001b[0;32mdef\u001b[0m \u001b[0mclose\u001b[0m\u001b[0;34m(\u001b[0m\u001b[0mself\u001b[0m\u001b[0;34m)\u001b[0m \u001b[0;34m->\u001b[0m \u001b[0;32mNone\u001b[0m\u001b[0;34m:\u001b[0m\u001b[0;34m\u001b[0m\u001b[0;34m\u001b[0m\u001b[0m\n",
            "\u001b[0;32m/usr/local/lib/python3.11/dist-packages/pandas/io/parsers/readers.py\u001b[0m in \u001b[0;36m_make_engine\u001b[0;34m(self, f, engine)\u001b[0m\n\u001b[1;32m   1878\u001b[0m                 \u001b[0;32mif\u001b[0m \u001b[0;34m\"b\"\u001b[0m \u001b[0;32mnot\u001b[0m \u001b[0;32min\u001b[0m \u001b[0mmode\u001b[0m\u001b[0;34m:\u001b[0m\u001b[0;34m\u001b[0m\u001b[0;34m\u001b[0m\u001b[0m\n\u001b[1;32m   1879\u001b[0m                     \u001b[0mmode\u001b[0m \u001b[0;34m+=\u001b[0m \u001b[0;34m\"b\"\u001b[0m\u001b[0;34m\u001b[0m\u001b[0;34m\u001b[0m\u001b[0m\n\u001b[0;32m-> 1880\u001b[0;31m             self.handles = get_handle(\n\u001b[0m\u001b[1;32m   1881\u001b[0m                 \u001b[0mf\u001b[0m\u001b[0;34m,\u001b[0m\u001b[0;34m\u001b[0m\u001b[0;34m\u001b[0m\u001b[0m\n\u001b[1;32m   1882\u001b[0m                 \u001b[0mmode\u001b[0m\u001b[0;34m,\u001b[0m\u001b[0;34m\u001b[0m\u001b[0;34m\u001b[0m\u001b[0m\n",
            "\u001b[0;32m/usr/local/lib/python3.11/dist-packages/pandas/io/common.py\u001b[0m in \u001b[0;36mget_handle\u001b[0;34m(path_or_buf, mode, encoding, compression, memory_map, is_text, errors, storage_options)\u001b[0m\n\u001b[1;32m    871\u001b[0m         \u001b[0;32mif\u001b[0m \u001b[0mioargs\u001b[0m\u001b[0;34m.\u001b[0m\u001b[0mencoding\u001b[0m \u001b[0;32mand\u001b[0m \u001b[0;34m\"b\"\u001b[0m \u001b[0;32mnot\u001b[0m \u001b[0;32min\u001b[0m \u001b[0mioargs\u001b[0m\u001b[0;34m.\u001b[0m\u001b[0mmode\u001b[0m\u001b[0;34m:\u001b[0m\u001b[0;34m\u001b[0m\u001b[0;34m\u001b[0m\u001b[0m\n\u001b[1;32m    872\u001b[0m             \u001b[0;31m# Encoding\u001b[0m\u001b[0;34m\u001b[0m\u001b[0;34m\u001b[0m\u001b[0m\n\u001b[0;32m--> 873\u001b[0;31m             handle = open(\n\u001b[0m\u001b[1;32m    874\u001b[0m                 \u001b[0mhandle\u001b[0m\u001b[0;34m,\u001b[0m\u001b[0;34m\u001b[0m\u001b[0;34m\u001b[0m\u001b[0m\n\u001b[1;32m    875\u001b[0m                 \u001b[0mioargs\u001b[0m\u001b[0;34m.\u001b[0m\u001b[0mmode\u001b[0m\u001b[0;34m,\u001b[0m\u001b[0;34m\u001b[0m\u001b[0;34m\u001b[0m\u001b[0m\n",
            "\u001b[0;31mFileNotFoundError\u001b[0m: [Errno 2] No such file or directory: '/content/diabetes.csv'"
          ]
        }
      ]
    },
    {
      "cell_type": "code",
      "source": [
        "display(\n",
        "    df.head().style\n",
        "    .set_caption(\"Tabla 1: Muestra inicial de datos\")\n",
        "    .set_properties(**{'text-align': 'center'})\n",
        "    .format(\"{:.2f}\", subset=df.select_dtypes(include=['float']).columns)\n",
        ")"
      ],
      "metadata": {
        "id": "CC-Oy_PTf2P0"
      },
      "execution_count": null,
      "outputs": []
    },
    {
      "cell_type": "code",
      "source": [
        "df_processed = df.copy()"
      ],
      "metadata": {
        "id": "k5fC0VGTjHk2"
      },
      "execution_count": null,
      "outputs": []
    },
    {
      "cell_type": "code",
      "source": [
        "print(\"\\nAnálisis de valores nulos en el dataset:\")\n",
        "null_analysis = df.isnull().sum().to_frame('Conteo Nulos')\n",
        "display(null_analysis.style.set_caption(\"Conteo de valores nulos por columna\"))\n",
        "\n",
        "key_columns = df.select_dtypes(include=['int', 'float']).columns.tolist()\n",
        "print(\"\\nValores cero en columnas clave:\")\n",
        "zero_analysis = df.select_dtypes(include=['int', 'float']).isin([0]).sum().to_frame('Conteo Ceros')\n",
        "display(zero_analysis.style.set_caption(\"Conteo de valores cero en columnas numéricas\"))\n",
        "\n",
        "plt.figure(figsize=(10, 6))\n",
        "sns.heatmap(df[key_columns].isin([0, np.nan]), cmap='viridis', cbar=False)\n",
        "plt.title(\"Mapa de calor de valores cero/nulos en columnas médicas\")\n",
        "plt.show()\n",
        "\n",
        "print(\"\\nFilas con valores nulos o ceros problemáticos:\")\n",
        "for col in key_columns:\n",
        "    zero_or_null = df[df[col].isin([0, np.nan])]\n",
        "    if not zero_or_null.empty:\n",
        "        print(f\"\\n--- {col} ---\")\n",
        "        display(zero_or_null.head())"
      ],
      "metadata": {
        "id": "JLZou4R5fzSc"
      },
      "execution_count": null,
      "outputs": []
    },
    {
      "cell_type": "markdown",
      "source": [
        "Parte 2"
      ],
      "metadata": {
        "id": "eLfucTJBgJUU"
      }
    },
    {
      "cell_type": "code",
      "source": [
        "numeric_cols = df.select_dtypes(include=['int', 'float']).columns.tolist()\n",
        "print(\"Columnas numéricas identificadas:\", numeric_cols)\n",
        "\n",
        "df_clean = df.copy()\n",
        "\n",
        "for col in numeric_cols:\n",
        "    col_median = df_clean[df_clean[col] != 0][col].median()\n",
        "    # Replace zeros with median\n",
        "    df_clean[col] = df_clean[col].replace(0, col_median)\n",
        "\n",
        "    print(f\"Replaced zeros in {col} with median value: {col_median:.2f}\")"
      ],
      "metadata": {
        "id": "1ut4jvlsgK7b"
      },
      "execution_count": null,
      "outputs": []
    },
    {
      "cell_type": "code",
      "source": [
        "columnas_a_excluir = []\n",
        "\n",
        "numeric_cols_clean = [col for col in df_clean.select_dtypes(include=['int', 'float']).columns\n",
        "                    if col not in columnas_a_excluir]\n",
        "\n",
        "\n",
        "print(\"VERIFICACIÓN DE CEROS RESTANTES\")\n",
        "ceros_restantes = (df_clean[numeric_cols_clean] == 0).sum()\n",
        "print(ceros_restantes.to_string(name=\"Ceros remanentes\"))\n",
        "print(f\"\\nTotal de ceros restantes: {ceros_restantes.sum()}\")\n",
        "\n",
        "print(\"ESTADÍSTICAS DESCRIPTIVAS\")\n",
        "display(df_clean[numeric_cols_clean].describe().round(2))\n",
        "\n",
        "print(\"DISTRIBUCIÓN DE VARIABLES\")\n",
        "plt.figure(figsize=(15, len(numeric_cols_clean)*4))\n",
        "for i, col in enumerate(numeric_cols_clean, 1):\n",
        "    plt.subplot(len(numeric_cols_clean), 1, i)\n",
        "    sns.histplot(df[col], color='red', kde=True, alpha=0.3, label='Original', bins=30)\n",
        "    sns.histplot(df_clean[col], color='blue', kde=True, alpha=0.3, label='Limpio', bins=30)\n",
        "    plt.title(f'Distribución de {col}', pad=20)\n",
        "    plt.legend()\n",
        "    plt.xlabel('')\n",
        "plt.tight_layout()\n",
        "plt.show()"
      ],
      "metadata": {
        "id": "eFvk9cIP7G46"
      },
      "execution_count": null,
      "outputs": []
    },
    {
      "cell_type": "code",
      "source": [
        "numeric_cols_clean = [col for col in df_clean.select_dtypes(include=['int', 'float']).columns\n",
        "                    if col not in columnas_a_excluir]\n",
        "\n",
        "print(\"COLUMNAS NUMÉRICAS IDENTIFICADAS\")\n",
        "print(numeric_cols_clean)\n",
        "\n",
        "scaler = MinMaxScaler()\n",
        "df_clean[numeric_cols_clean] = scaler.fit_transform(df_clean[numeric_cols_clean])\n",
        "\n",
        "print(\"PRIMERAS FILAS POST-NORMALIZACIÓN\")\n",
        "display(df_clean.head().style.set_caption(\"Dataset Normalizado\").format(\"{:.4f}\"))\n",
        "\n",
        "print(\"ESTADÍSTICAS DESCRIPTIVAS POST-NORMALIZACIÓN\")\n",
        "display(df_clean[numeric_cols_clean].describe().round(4).style.set_caption(\"Resumen Estadístico\"))"
      ],
      "metadata": {
        "id": "GuiJih5ZgLWP"
      },
      "execution_count": null,
      "outputs": []
    },
    {
      "cell_type": "markdown",
      "source": [
        "Parte 3"
      ],
      "metadata": {
        "id": "bjcx_vjMh6zH"
      }
    },
    {
      "cell_type": "code",
      "source": [
        "#Histograma\n",
        "plt.subplot(2, 2, 1)\n",
        "sns.histplot(df['Glucose'], kde=True, color='blue', label='Original', alpha=0.5)\n",
        "sns.histplot(df_processed['Glucose'], kde=True, color='red', label='Normalizado', alpha=0.5)\n",
        "plt.title('Distribución de Glucose (Antes/Después)')\n",
        "plt.xlabel('Glucose')\n",
        "plt.ylabel('Frecuencia')\n",
        "plt.legend()\n",
        "plt.tight_layout()\n",
        "plt.show()"
      ],
      "metadata": {
        "id": "dzVNyjKUh8a9"
      },
      "execution_count": null,
      "outputs": []
    },
    {
      "cell_type": "code",
      "source": [
        "#Boxplot\n",
        "plt.subplot(2, 2, 2)\n",
        "sns.boxplot(y=df_processed['BloodPressure'], color='orange')\n",
        "plt.title('Distribución de BloodPressure (Normalizado)')\n",
        "plt.ylabel('BloodPressure (0-1)')\n",
        "plt.tight_layout()\n",
        "plt.show()"
      ],
      "metadata": {
        "id": "aXGQS872h857"
      },
      "execution_count": null,
      "outputs": []
    },
    {
      "cell_type": "code",
      "source": [
        "#Scatter\n",
        "plt.subplot(2, 2, 3)\n",
        "sns.scatterplot(x=df_processed['Glucose'], y=df_processed['BMI'], hue=df_processed['Outcome'], alpha=0.6)\n",
        "plt.title('Relación entre Glucose y BMI')\n",
        "plt.xlabel('Glucose (Normalizado)')\n",
        "plt.ylabel('BMI (Normalizado)')\n",
        "plt.tight_layout()\n",
        "plt.show()"
      ],
      "metadata": {
        "id": "1lZ7pfOmh9Iz"
      },
      "execution_count": null,
      "outputs": []
    },
    {
      "cell_type": "code",
      "source": [
        "#Bar Chart patients vs diabetes\n",
        "plt.subplot(2, 2, 4)\n",
        "outcome_counts = df['Outcome'].value_counts()\n",
        "sns.barplot(x=outcome_counts.index, y=outcome_counts.values, palette=['green', 'red'])\n",
        "plt.title('Distribución de Diabetes (Outcome)')\n",
        "plt.xlabel('Diabetes (0=No, 1=Sí)')\n",
        "plt.ylabel('Número de Pacientes')\n",
        "plt.xticks([0, 1], ['No Diabetes', 'Diabetes'])\n",
        "plt.tight_layout()\n",
        "plt.show()"
      ],
      "metadata": {
        "id": "ltsnYHtkh9Yv"
      },
      "execution_count": null,
      "outputs": []
    }
  ]
}